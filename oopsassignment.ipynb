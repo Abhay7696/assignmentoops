{
 "cells": [
  {
   "cell_type": "code",
   "execution_count": null,
   "id": "61ff38f8-7768-41a1-a247-14f946682795",
   "metadata": {},
   "outputs": [],
   "source": [
    "Q1. Explain Class and Object with respect to Object-Oriented Programming. Give a suitable example."
   ]
  },
  {
   "cell_type": "code",
   "execution_count": null,
   "id": "120a5eff-9d2a-4bdc-b043-cea820518c8c",
   "metadata": {},
   "outputs": [],
   "source": [
    "Python Classes\n",
    "A class is considered as a blueprint of objects. We can think of the class as a sketch (prototype) of a house.\n",
    "It contains all the details about the floors, doors, windows, etc. Based on these descriptions we build the house. House is the object.\n",
    "\n",
    "Since many houses can be made from the same description, we can create many objects from a class."
   ]
  },
  {
   "cell_type": "code",
   "execution_count": null,
   "id": "b9e58fb6-4b9c-4477-a667-46e8c3f0df79",
   "metadata": {},
   "outputs": [],
   "source": [
    "# define a class\n",
    "class Bike:\n",
    "    name = \"\"\n",
    "    gear = 0\n",
    "\n",
    "# create object of class\n",
    "bike1 = Bike()\n",
    "\n",
    "# access attributes and assign new values\n",
    "bike1.gear = 11\n",
    "bike1.name = \"Mountain Bike\"\n",
    "\n",
    "print(f\"Name: {bike1.name}, Gears: {bike1.gear} \")"
   ]
  },
  {
   "cell_type": "code",
   "execution_count": null,
   "id": "0cf3557a-b98c-48aa-b37d-75e74226afdb",
   "metadata": {},
   "outputs": [],
   "source": [
    "\n",
    "OOPs in Python\n",
    "OOPs in Python is a programming approach that focuses on using objects and classes as same as other general programming languages. \n",
    "The objects can be any real-world entities. Python allows developers to develop applications using the OOPs approach with the major focus on code reusability. \n",
    "It is very easy to create classes and objects in Python."
   ]
  },
  {
   "cell_type": "code",
   "execution_count": null,
   "id": "03ae409e-d009-4cca-a039-71e83075365b",
   "metadata": {},
   "outputs": [],
   "source": [
    "Q2. Name the four pillars of OOPs."
   ]
  },
  {
   "cell_type": "code",
   "execution_count": null,
   "id": "a8756168-1474-4bd9-8abf-d2dc570a2781",
   "metadata": {},
   "outputs": [],
   "source": [
    "The four pillars for Oops are:\n",
    "1. Abstraction\n",
    "\n",
    "2. Encapsulation\n",
    "\n",
    "3. Inheritance\n",
    "\n",
    "4. Polymorphism"
   ]
  },
  {
   "cell_type": "code",
   "execution_count": null,
   "id": "7bb6ffd3-c7df-4580-8252-d3a74b50999c",
   "metadata": {},
   "outputs": [],
   "source": [
    "Q3. Explain why the __init__() function is used. Give a suitable example."
   ]
  },
  {
   "cell_type": "code",
   "execution_count": null,
   "id": "7bf03071-c81c-4dc2-8b9b-c5b77dbdf2e6",
   "metadata": {},
   "outputs": [],
   "source": [
    "The __init__ method lets the class initialize the object's attributes and serves no other purpose. It is only used within classes.\n",
    "\n",
    "class Person:\n",
    "    def __init__(self, name, age):\n",
    "    self.name = name\n",
    "    self.age = age\n",
    "\n",
    "p1 = Person(\"John\", 36)\n",
    "\n",
    "print(p1.name)\n",
    "print(p1.age)\n"
   ]
  },
  {
   "cell_type": "code",
   "execution_count": null,
   "id": "d43495a2-adcf-4ddb-9366-010896d73ba9",
   "metadata": {},
   "outputs": [],
   "source": [
    "Q4. Why self is used in OOPs?"
   ]
  },
  {
   "cell_type": "code",
   "execution_count": null,
   "id": "2565d55a-4fd5-4f64-bfed-55cc4a7b075e",
   "metadata": {},
   "outputs": [],
   "source": [
    "The self is used to represent the instance of the class. With this keyword, you can access the attributes and methods of the class in python. It binds the attributes with the given arguments. The reason why we use self is that Python does not use the '@' syntax to refer to instance attributes"
   ]
  },
  {
   "cell_type": "code",
   "execution_count": null,
   "id": "6b49edf3-090e-4ce6-97db-f1aa96a796c5",
   "metadata": {},
   "outputs": [],
   "source": [
    "Q5. What is inheritance? Give an example for each type of inheritance."
   ]
  },
  {
   "cell_type": "code",
   "execution_count": null,
   "id": "af348ee9-16da-4789-b9a6-719cece5e9de",
   "metadata": {},
   "outputs": [],
   "source": [
    "Inheritance is a mechanism in which one class acquires the property of another class. For example, a child inherits the traits of his/her parents. With inheritance, we can reuse the fields and methods of the existing class. Hence, inheritance facilitates Reusability and is an important concept of OOPs"
   ]
  }
 ],
 "metadata": {
  "kernelspec": {
   "display_name": "Python 3 (ipykernel)",
   "language": "python",
   "name": "python3"
  },
  "language_info": {
   "codemirror_mode": {
    "name": "ipython",
    "version": 3
   },
   "file_extension": ".py",
   "mimetype": "text/x-python",
   "name": "python",
   "nbconvert_exporter": "python",
   "pygments_lexer": "ipython3",
   "version": "3.10.8"
  }
 },
 "nbformat": 4,
 "nbformat_minor": 5
}
